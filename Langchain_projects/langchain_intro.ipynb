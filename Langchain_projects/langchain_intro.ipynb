{
 "cells": [
  {
   "cell_type": "code",
   "execution_count": 2,
   "metadata": {},
   "outputs": [],
   "source": [
    "import os \n",
    "from dotenv import load_dotenv\n",
    "load_dotenv()\n",
    "# get environment variables\n",
    "os.environ[\"GOOGLE_API_KEY\"] = os.getenv(\"GOOGLE_API_KEY\")\n",
    "os.environ[\"LANGCHAIN_API_KEY\"] = os.getenv(\"LANGCHAIN_API_KEY\")\n",
    "os.environ[\"LANGCHAIN_TRACING_V2\"]=\"true\"\n",
    "os.environ[\"LANGCHAIN_PROJECT\"]=os.getenv(\"LANGCHAIN_PROJECT\") \n",
    "# project name and info that's being tracked in langsmith "
   ]
  },
  {
   "cell_type": "markdown",
   "metadata": {},
   "source": [
    "[Help] google_langchain_reference = \"https://python.langchain.com/v0.2/docs/integrations/llms/google_ai/#using-in-a-chain\" \n"
   ]
  },
  {
   "cell_type": "code",
   "execution_count": null,
   "metadata": {},
   "outputs": [],
   "source": [
    "from langchain_google_genai import GoogleGenerativeAI\n",
    "\n",
    "llm = GoogleGenerativeAI(model=\"gemini-pro\")\n",
    "# print(llm)\n",
    "print(\n",
    "    llm.invoke(\n",
    "        \"What do you think about indian economic condition in 2024\"))"
   ]
  },
  {
   "cell_type": "code",
   "execution_count": 6,
   "metadata": {},
   "outputs": [
    {
     "data": {
      "text/plain": [
       "ChatPromptTemplate(input_variables=['input', 'input_language', 'output_language'], messages=[SystemMessagePromptTemplate(prompt=PromptTemplate(input_variables=['input_language', 'output_language'], template='You are an helpful lingustic assistant that translates {input_language} to {output_language}')), HumanMessagePromptTemplate(prompt=PromptTemplate(input_variables=['input'], template='{input}'))])"
      ]
     },
     "execution_count": 6,
     "metadata": {},
     "output_type": "execute_result"
    }
   ],
   "source": [
    "# creating chat prompt template using lanchain \n",
    "from langchain_core.prompts import ChatPromptTemplate\n",
    "\n",
    "prompt = ChatPromptTemplate.from_messages(\n",
    "    [\n",
    "        (\"system\",\"You are an helpful lingustic assistant that translates {input_language} to {output_language}\"),\n",
    "        (\"user\",\"{input}\")\n",
    "    ]\n",
    ")\n",
    "prompt"
   ]
  },
  {
   "cell_type": "code",
   "execution_count": 23,
   "metadata": {},
   "outputs": [
    {
     "name": "stdout",
     "output_type": "stream",
     "text": [
      "2024 में भारतीय आर्थिक स्थिति के बारे में आप क्या सोचते हैं?\n"
     ]
    }
   ],
   "source": [
    "# creating chain \n",
    "chain = prompt|llm \n",
    "\n",
    "print(chain.invoke({\"input\":\"What do you think about indian economic condition in 2024\",'input_language':'english','output_language':'hindi'}))\n",
    "\n",
    "\n",
    "#expected: ['input', 'input_language', 'output_language']"
   ]
  },
  {
   "cell_type": "code",
   "execution_count": 25,
   "metadata": {},
   "outputs": [],
   "source": [
    "input_msg ='''Blue whales are the largest known animal on Earth, with some individuals reaching lengths of up to 100 feet (30 meters) and weighing up to 200 tons. They are found in oceans worldwide, but are most commonly seen in the warm waters of the Pacific and Indian Oceans.\n",
    "\n",
    "Blue whales are filter feeders, using their baleen plates to strain tiny krill and other small crustaceans from the water. They are known for their distinctive blue color, which is caused by a pigment called melanin. This coloration helps them blend in with the dark depths of the ocean.\n",
    "\n",
    "Despite their massive size, blue whales are incredibly graceful and agile in the water. They are capable of swimming at speeds of up to 30 miles per hour (48 kilometers per hour) and can dive to depths of up to 1,000 feet (305 meters). They are also known for their complex social behavior, with some individuals forming long-term groups that can last for years.\n",
    "\n",
    "Unfortunately, blue whales are threatened by a number of human activities, including overfishing and habitat loss. They are also hunted by some cultures for their meat and oil. Conservation efforts are underway to protect these magnificent creatures, including the establishment of marine protected areas and the promotion of sustainable fishing practices.\n",
    "\n",
    "In conclusion, blue whales are truly awe-inspiring creatures, with their enormous size, graceful movements, and fascinating social behavior. It is important for us to protect and conserve these magnificent animals, so that future generations can continue to marvel at their beauty and majesty'''\n"
   ]
  },
  {
   "cell_type": "code",
   "execution_count": 27,
   "metadata": {},
   "outputs": [
    {
     "name": "stdout",
     "output_type": "stream",
     "text": [
      "Las ballenas azules son el animal más grande conocido en la Tierra, con algunos individuos que alcanzan longitudes de hasta 100 pies (30 metros) y un peso de hasta 200 toneladas. Se encuentran en los océanos de todo el mundo, pero se ven con mayor frecuencia en las aguas cálidas de los océanos Pacífico e Índico.\n",
      "\n",
      "Las ballenas azules son alimentadoras por filtración, utilizando sus placas de barbas para filtrar pequeños krill y otros crustáceos pequeños del agua. Son conocidas por su distintivo color azul, que es causado por un pigmento llamado melanina. Esta coloración les ayuda a mezclarse con las oscuras profundidades del océano.\n",
      "\n",
      "A pesar de su enorme tamaño, las ballenas azules son increíblemente elegantes y ágiles en el agua. Son capaces de nadar a velocidades de hasta 30 millas por hora (48 kilómetros por hora) y pueden bucear a profundidades de hasta 1,000 pies (305 metros). También son conocidas por su complejo comportamiento social, con algunos individuos que forman grupos a largo plazo que pueden durar años.\n",
      "\n",
      "Desafortunadamente, las ballenas azules están amenazadas por una serie de actividades humanas, incluida la sobrepesca y la pérdida de hábitat. También son cazadas por algunas culturas por su carne y aceite. Se están llevando a cabo esfuerzos de conservación para proteger a estas magníficas criaturas, incluido el establecimiento de áreas marinas protegidas y la promoción de prácticas de pesca sostenibles.\n",
      "\n",
      "En conclusión, las ballenas azules son criaturas realmente impresionantes, con su enorme tamaño, movimientos elegantes y fascinante comportamiento social. Es importante para nosotros proteger y conservar estos magníficos animales, para que las generaciones futuras puedan seguir maravillándose con su belleza y majestuosidad.\n"
     ]
    }
   ],
   "source": [
    "response = chain.invoke({\"input\":input_msg,'input_language':'english','output_language':'spanish'})\n",
    "print(response) # try to change language"
   ]
  },
  {
   "cell_type": "code",
   "execution_count": null,
   "metadata": {},
   "outputs": [],
   "source": [
    "# we can add output parser to the chain to get output in clean format "
   ]
  }
 ],
 "metadata": {
  "kernelspec": {
   "display_name": "newinv",
   "language": "python",
   "name": "python3"
  },
  "language_info": {
   "codemirror_mode": {
    "name": "ipython",
    "version": 3
   },
   "file_extension": ".py",
   "mimetype": "text/x-python",
   "name": "python",
   "nbconvert_exporter": "python",
   "pygments_lexer": "ipython3",
   "version": "3.10.0"
  }
 },
 "nbformat": 4,
 "nbformat_minor": 2
}
